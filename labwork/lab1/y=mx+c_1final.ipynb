{
 "cells": [
  {
   "cell_type": "code",
   "execution_count": 43,
   "metadata": {},
   "outputs": [
    {
     "name": "stdout",
     "output_type": "stream",
     "text": [
      "3.5\n"
     ]
    }
   ],
   "source": [
    "#run this program on python shell\n",
    "import tensorflow as tf\n",
    "# Creates a graph.\n",
    "x = tf.constant([1.0, 2.0, 3.0, 4.0, 5.0, 6.0], shape=[1, 6], name='a')\n",
    "y = tf.constant([1.0, 2.0, 9.0, 4.0, 7.0, 6.0], shape=[1, 6], name='b')\n",
    "\n",
    "with tf.name_scope(\"mean_scope\"):\n",
    "    mean_x=tf.reduce_mean(x)\n",
    "    mean_y=tf.reduce_mean(y)\n",
    "   ## tf.multiply()\n",
    "    \n",
    "sess=tf.Session()\n",
    "print(sess.run(mean_x))\n"
   ]
  },
  {
   "cell_type": "code",
   "execution_count": 44,
   "metadata": {},
   "outputs": [
    {
     "name": "stdout",
     "output_type": "stream",
     "text": [
      "[[-2.5 -1.5 -0.5  0.5  1.5  2.5]]\n",
      "17.5\n"
     ]
    }
   ],
   "source": [
    "##Calculate variance for x variance(x)=sum((x-mean(x))^2)\n",
    "\n",
    "with tf.name_scope(\"VARIANCE_scope\"):\n",
    "    a1=tf.subtract(x,mean_x)\n",
    "    sess=tf.Session()\n",
    "    print(sess.run(a1))\n",
    "\n",
    "    a2=tf.square(a1)\n",
    "    var_x=tf.reduce_sum(a2)\n",
    "\n",
    "    sess=tf.Session()\n",
    "    print(sess.run(var_x))\n"
   ]
  },
  {
   "cell_type": "code",
   "execution_count": 45,
   "metadata": {},
   "outputs": [
    {
     "name": "stdout",
     "output_type": "stream",
     "text": [
      "[[-2.5 -1.5 -0.5  0.5  1.5  2.5]]\n",
      "[[-3.83333349 -2.83333349  4.16666651 -0.83333349  2.16666651  1.16666651]]\n",
      "[[ 9.58333397  4.25       -2.08333325 -0.41666675  3.24999976  2.91666627]]\n",
      "17.5\n"
     ]
    }
   ],
   "source": [
    "\n",
    "##Calculate covariance of x & y covariance = sum((x(i) - mean(x)) * (y(i) - mean(y)))\n",
    "with tf.name_scope(\"covariance_scope\"):\n",
    "    m=tf.subtract(x,mean_x)\n",
    "    sess=tf.Session()\n",
    "    print(sess.run(m))\n",
    "\n",
    "    n=tf.subtract(y,mean_y)\n",
    "    sess=tf.Session()\n",
    "    print(sess.run(n))\n",
    "\n",
    "    o=tf.multiply(m,n)\n",
    "    sess=tf.Session()\n",
    "    print(sess.run(o))\n",
    "\n",
    "    cov=tf.reduce_sum(o)\n",
    "\n",
    "    sess=tf.Session()\n",
    "    print(sess.run(cov))\n"
   ]
  },
  {
   "cell_type": "code",
   "execution_count": 46,
   "metadata": {},
   "outputs": [
    {
     "name": "stdout",
     "output_type": "stream",
     "text": [
      "1.0\n"
     ]
    }
   ],
   "source": [
    "##Calculate value of c c = covariance(x,y)/variance(x)\n",
    "with tf.name_scope(\"value_c_scope\"):\n",
    "    value_c=tf.divide(cov,var_x)\n",
    "    sess=tf.Session()\n",
    "    print(sess.run(value_c))"
   ]
  },
  {
   "cell_type": "code",
   "execution_count": 49,
   "metadata": {},
   "outputs": [
    {
     "name": "stdout",
     "output_type": "stream",
     "text": [
      "1.33333\n"
     ]
    }
   ],
   "source": [
    "##Calculate value of m m = mean(y) -c* mean(x)\n",
    "with tf.name_scope(\"value_of_m_scope\"):\n",
    "    r=tf.multiply(value_c,mean_x)\n",
    "    value_m=tf.subtract(mean_y,r)\n",
    "\n",
    "    sess=tf.Session()\n",
    "    print(sess.run(value_m))"
   ]
  },
  {
   "cell_type": "code",
   "execution_count": 50,
   "metadata": {
    "collapsed": true
   },
   "outputs": [],
   "source": [
    " writer = tf.summary.FileWriter(\"/tmp/tboard/output3\", sess.graph)"
   ]
  },
  {
   "cell_type": "code",
   "execution_count": 1,
   "metadata": {},
   "outputs": [
    {
     "ename": "ImportError",
     "evalue": "No module named tensorflow",
     "output_type": "error",
     "traceback": [
      "\u001b[0;31m---------------------------------------------------------------------------\u001b[0m",
      "\u001b[0;31mImportError\u001b[0m                               Traceback (most recent call last)",
      "\u001b[0;32m<ipython-input-1-a5ceb6ab30b6>\u001b[0m in \u001b[0;36m<module>\u001b[0;34m()\u001b[0m\n\u001b[0;32m----> 1\u001b[0;31m \u001b[0;32mimport\u001b[0m \u001b[0mtensorflow\u001b[0m \u001b[0;32mas\u001b[0m \u001b[0mtf\u001b[0m\u001b[0;34m\u001b[0m\u001b[0m\n\u001b[0m\u001b[1;32m      2\u001b[0m \u001b[0;32mimport\u001b[0m \u001b[0mnumpy\u001b[0m\u001b[0;34m\u001b[0m\u001b[0m\n\u001b[1;32m      3\u001b[0m \u001b[0;32mimport\u001b[0m \u001b[0mmatplotlib\u001b[0m\u001b[0;34m.\u001b[0m\u001b[0mpyplot\u001b[0m \u001b[0;32mas\u001b[0m \u001b[0mplt\u001b[0m\u001b[0;34m\u001b[0m\u001b[0m\n",
      "\u001b[0;31mImportError\u001b[0m: No module named tensorflow"
     ]
    }
   ],
   "source": [
    "import tensorflow as tf\n",
    "import numpy\n",
    "import matplotlib.pyplot as plt"
   ]
  },
  {
   "cell_type": "code",
   "execution_count": 2,
   "metadata": {},
   "outputs": [
    {
     "ename": "NameError",
     "evalue": "name 'tf' is not defined",
     "output_type": "error",
     "traceback": [
      "\u001b[0;31m---------------------------------------------------------------------------\u001b[0m",
      "\u001b[0;31mNameError\u001b[0m                                 Traceback (most recent call last)",
      "\u001b[0;32m<ipython-input-2-6b451b55c119>\u001b[0m in \u001b[0;36m<module>\u001b[0;34m()\u001b[0m\n\u001b[0;32m----> 1\u001b[0;31m \u001b[0;32mwith\u001b[0m \u001b[0mtf\u001b[0m\u001b[0;34m.\u001b[0m\u001b[0mSession\u001b[0m\u001b[0;34m(\u001b[0m\u001b[0;34m)\u001b[0m \u001b[0;32mas\u001b[0m \u001b[0msess\u001b[0m\u001b[0;34m:\u001b[0m\u001b[0;34m\u001b[0m\u001b[0m\n\u001b[0m\u001b[1;32m      2\u001b[0m     \u001b[0mx1\u001b[0m\u001b[0;34m=\u001b[0m\u001b[0msess\u001b[0m\u001b[0;34m.\u001b[0m\u001b[0mrun\u001b[0m\u001b[0;34m(\u001b[0m\u001b[0mx\u001b[0m\u001b[0;34m)\u001b[0m\u001b[0;34m\u001b[0m\u001b[0m\n\u001b[1;32m      3\u001b[0m     \u001b[0my1\u001b[0m\u001b[0;34m=\u001b[0m\u001b[0msess\u001b[0m\u001b[0;34m.\u001b[0m\u001b[0mrun\u001b[0m\u001b[0;34m(\u001b[0m\u001b[0my\u001b[0m\u001b[0;34m)\u001b[0m\u001b[0;34m\u001b[0m\u001b[0m\n\u001b[1;32m      4\u001b[0m \u001b[0mtrain_X\u001b[0m \u001b[0;34m=\u001b[0m \u001b[0mnumpy\u001b[0m\u001b[0;34m.\u001b[0m\u001b[0masarray\u001b[0m\u001b[0;34m(\u001b[0m\u001b[0mx1\u001b[0m\u001b[0;34m)\u001b[0m\u001b[0;34m\u001b[0m\u001b[0m\n\u001b[1;32m      5\u001b[0m \u001b[0mtrain_Y\u001b[0m \u001b[0;34m=\u001b[0m \u001b[0mnumpy\u001b[0m\u001b[0;34m.\u001b[0m\u001b[0masarray\u001b[0m\u001b[0;34m(\u001b[0m\u001b[0my1\u001b[0m\u001b[0;34m)\u001b[0m\u001b[0;34m\u001b[0m\u001b[0m\n",
      "\u001b[0;31mNameError\u001b[0m: name 'tf' is not defined"
     ]
    }
   ],
   "source": [
    "with tf.Session() as sess:\n",
    "    x1=sess.run(x)\n",
    "    y1=sess.run(y)\n",
    "train_X = numpy.asarray(x1)\n",
    "train_Y = numpy.asarray(y1)\n",
    "\n",
    "\n",
    "ranX=tf.constant([1.0, 2.0, 3.0, 4.0, 5.0, 6.0])\n",
    "with tf.Session() as sess:\n",
    "    ranX1=sess.run(ranX)\n",
    "ranX2=numpy.asarray(ranX1)\n",
    "\n",
    "ranY=[0]*6\n",
    "    \n",
    "with tf.Session() as sess:\n",
    "        for i in range(len(sess.run(ranX))):\n",
    "            output = sess.run(ranX[i])\n",
    "            a=tf.multiply(output,slope)\n",
    "            b=tf.add(a,const_c)\n",
    "            ranY[i]=sess.run(b)\n",
    "print(ranY)"
   ]
  },
  {
   "cell_type": "code",
   "execution_count": null,
   "metadata": {
    "collapsed": true
   },
   "outputs": [],
   "source": [
    "\n",
    "plt.plot(train_X, train_Y, 'ro', label='Original data')\n",
    "plt.plot(ranX2, ranY, label='fitted line')\n",
    "plt.legend()\n",
    "plt.show()"
   ]
  }
 ],
 "metadata": {
  "kernelspec": {
   "display_name": "Python 2",
   "language": "python",
   "name": "python2"
  },
  "language_info": {
   "codemirror_mode": {
    "name": "ipython",
    "version": 2
   },
   "file_extension": ".py",
   "mimetype": "text/x-python",
   "name": "python",
   "nbconvert_exporter": "python",
   "pygments_lexer": "ipython2",
   "version": "2.7.13"
  }
 },
 "nbformat": 4,
 "nbformat_minor": 2
}
