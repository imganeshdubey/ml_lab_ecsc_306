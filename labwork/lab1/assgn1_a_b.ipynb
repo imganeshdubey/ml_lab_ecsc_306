{
 "cells": [
  {
   "cell_type": "code",
   "execution_count": 1,
   "metadata": {
    "collapsed": true
   },
   "outputs": [],
   "source": [
    "#tensorboard --logdir=/tmp/tboard/output5"
   ]
  },
  {
   "cell_type": "code",
   "execution_count": 5,
   "metadata": {},
   "outputs": [
    {
     "name": "stdout",
     "output_type": "stream",
     "text": [
      "1\n"
     ]
    }
   ],
   "source": [
    "import tensorflow as tf \n",
    "with tf.name_scope(\"assgn1a_scope\"):\n",
    "    i=tf.multiply(a,a)\n",
    "    j=tf.multiply(b,b)\n",
    "    k=tf.multiply(a,b)\n",
    "    l=tf.multiply(2,k)\n",
    "    m=tf.add(i,j)\n",
    "    n=tf.subtract(m,l)\n",
    "\n",
    "    a = tf.constant(5)\n",
    "    b = tf.constant(6)\n",
    "    \n",
    "    with tf.Session() as sess1:\n",
    "        writer = tf.summary.FileWriter(\"/tmp/tboard/output5\", sess1.graph)\n",
    "        print(sess1.run(n))\n",
    "        writer.close()\n"
   ]
  },
  {
   "cell_type": "code",
   "execution_count": 18,
   "metadata": {
    "collapsed": true
   },
   "outputs": [],
   "source": [
    " #tensorboard --logdir=/tmp/tboard/output5"
   ]
  },
  {
   "cell_type": "code",
   "execution_count": null,
   "metadata": {},
   "outputs": [],
   "source": [
    "import tensorflow as tf \n",
    "with tf.name_scope(\"assgn1b_scope\"):\n",
    "    a = tf.constant(5)\n",
    "    b = tf.constant(6)\n",
    "    i=tf.add(a,b)\n",
    "    j=tf.multiply(a,a)\n",
    "    k=tf.multiply(b,b)\n",
    "    l=tf.multiply(a,b)\n",
    "    m=tf.add(j,k)\n",
    "    n=tf.subtract(m,l)\n",
    "    o=tf.multiply(i,n)\n",
    "\n",
    "    a = tf.constant(5)\n",
    "    b = tf.constant(6)\n",
    "\n",
    "    with tf.Session() as sess:\n",
    "        writer = tf.summary.FileWriter(\"/tmp/tboard/output6\", sess.graph)\n",
    "        print(sess.run(o))\n",
    "        writer.close()"
   ]
  },
  {
   "cell_type": "code",
   "execution_count": null,
   "metadata": {
    "collapsed": true
   },
   "outputs": [],
   "source": []
  }
 ],
 "metadata": {
  "kernelspec": {
   "display_name": "Python 3",
   "language": "python",
   "name": "python3"
  },
  "language_info": {
   "codemirror_mode": {
    "name": "ipython",
    "version": 3
   },
   "file_extension": ".py",
   "mimetype": "text/x-python",
   "name": "python",
   "nbconvert_exporter": "python",
   "pygments_lexer": "ipython3",
   "version": "3.6.1"
  }
 },
 "nbformat": 4,
 "nbformat_minor": 2
}
